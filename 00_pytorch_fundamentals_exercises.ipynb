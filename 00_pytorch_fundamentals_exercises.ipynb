{
  "cells": [
    {
      "cell_type": "markdown",
      "metadata": {
        "id": "AzDBM_v4iMe7"
      },
      "source": [
        "# 00. PyTorch Fundamentals Exercises\n",
        "\n",
        "### 1. Documentation reading \n",
        "\n",
        "A big part of deep learning (and learning to code in general) is getting familiar with the documentation of a certain framework you're using. We'll be using the PyTorch documentation a lot throughout the rest of this course. So I'd recommend spending 10-minutes reading the following (it's okay if you don't get some things for now, the focus is not yet full understanding, it's awareness):\n",
        "  * The documentation on [`torch.Tensor`](https://pytorch.org/docs/stable/tensors.html#torch-tensor).\n",
        "  * The documentation on [`torch.cuda`](https://pytorch.org/docs/master/notes/cuda.html#cuda-semantics).\n",
        "\n"
      ]
    },
    {
      "cell_type": "code",
      "execution_count": 1,
      "metadata": {
        "id": "bGD0oD8Kizak"
      },
      "outputs": [],
      "source": [
        "# No code solution (reading)"
      ]
    },
    {
      "cell_type": "markdown",
      "metadata": {
        "id": "__iXqqz-ioUJ"
      },
      "source": [
        "### 2. Create a random tensor with shape `(7, 7)`.\n"
      ]
    },
    {
      "cell_type": "code",
      "execution_count": 1,
      "metadata": {
        "id": "6pUq9Dc8i2L7"
      },
      "outputs": [
        {
          "name": "stdout",
          "output_type": "stream",
          "text": [
            "tensor([[0.5411, 0.9035, 0.1869, 0.3768, 0.0419, 0.8234, 0.9584],\n",
            "        [0.8215, 0.8176, 0.0517, 0.4523, 0.2675, 0.2340, 0.4658],\n",
            "        [0.1779, 0.1594, 0.1963, 0.1415, 0.9342, 0.2488, 0.0278],\n",
            "        [0.8411, 0.7800, 0.9645, 0.8226, 0.7023, 0.8691, 0.6069],\n",
            "        [0.5736, 0.8938, 0.7009, 0.3531, 0.1327, 0.7908, 0.6530],\n",
            "        [0.7276, 0.7536, 0.6173, 0.3650, 0.1191, 0.9555, 0.6610],\n",
            "        [0.3804, 0.7570, 0.6853, 0.3516, 0.0967, 0.7886, 0.6108]])\n"
          ]
        }
      ],
      "source": [
        "import torch\n",
        "tensor = torch.rand(7, 7)\n",
        "print(tensor)"
      ]
    },
    {
      "cell_type": "markdown",
      "metadata": {
        "id": "9-XxvRLfiqkR"
      },
      "source": [
        "### 3. Perform a matrix multiplication on the tensor from 2 with another random tensor with shape `(1, 7)` (hint: you may have to transpose the second tensor)."
      ]
    },
    {
      "cell_type": "code",
      "execution_count": 2,
      "metadata": {
        "id": "NcLqR0Sbi_vT"
      },
      "outputs": [
        {
          "name": "stdout",
          "output_type": "stream",
          "text": [
            "A shape: torch.Size([7, 7])\n",
            "B shape: torch.Size([1, 7])\n",
            "B Transposed shape: torch.Size([7, 1])\n",
            "Result shape: torch.Size([7, 1])\n",
            "Result:\n",
            " tensor([[2.4970],\n",
            "        [2.0577],\n",
            "        [2.0142],\n",
            "        [1.6613],\n",
            "        [1.9031],\n",
            "        [2.4094],\n",
            "        [1.4802]])\n"
          ]
        }
      ],
      "source": [
        "A = torch.rand(7, 7)\n",
        "B = torch.rand(1, 7)\n",
        "# the problem is that B n of rows and A n of columns  not matching\n",
        "# so we need to transpose B\n",
        "B_T = B.T\n",
        "result = torch.matmul(A, B_T)\n",
        "print(\"A shape:\", A.shape)\n",
        "print(\"B shape:\", B.shape)\n",
        "print(\"B Transposed shape:\", B_T.shape)\n",
        "print(\"Result shape:\", result.shape)\n",
        "print(\"Result:\\n\", result)\n"
      ]
    },
    {
      "cell_type": "markdown",
      "metadata": {
        "id": "eiutdKUFiryU"
      },
      "source": [
        "### 4. Set the random seed to `0` and do 2 & 3 over again.\n",
        "\n",
        "The output should be:\n",
        "```\n",
        "(tensor([[1.8542],\n",
        "         [1.9611],\n",
        "         [2.2884],\n",
        "         [3.0481],\n",
        "         [1.7067],\n",
        "         [2.5290],\n",
        "         [1.7989]]), torch.Size([7, 1]))\n",
        "```"
      ]
    },
    {
      "cell_type": "code",
      "execution_count": 3,
      "metadata": {
        "id": "D-lOWI_1jRMm"
      },
      "outputs": [
        {
          "name": "stdout",
          "output_type": "stream",
          "text": [
            "tensor([[1.8542],\n",
            "        [1.9611],\n",
            "        [2.2884],\n",
            "        [3.0481],\n",
            "        [1.7067],\n",
            "        [2.5290],\n",
            "        [1.7989]]) torch.Size([7, 1])\n"
          ]
        }
      ],
      "source": [
        "torch.manual_seed(0)\n",
        "A = torch.rand(7, 7)\n",
        "B = torch.rand(1, 7)\n",
        "B_T = B.T\n",
        "result = torch.matmul(A, B_T)\n",
        "print(result, result.shape)"
      ]
    },
    {
      "cell_type": "markdown",
      "metadata": {
        "id": "ezY6ks9Cis37"
      },
      "source": [
        "### 5. Speaking of random seeds, we saw how to set it with `torch.manual_seed()` but is there a GPU equivalent? (hint: you'll need to look into the documentation for `torch.cuda` for this one)\n",
        "  * If there is, set the GPU random seed to `1234`."
      ]
    },
    {
      "cell_type": "code",
      "execution_count": 5,
      "metadata": {
        "id": "_LKWcfSTjp00"
      },
      "outputs": [
        {
          "name": "stdout",
          "output_type": "stream",
          "text": [
            "CUDA seed set to 1234 \n"
          ]
        }
      ],
      "source": [
        "torch.manual_seed(0)\n",
        "if torch.cuda.is_available():\n",
        "    torch.cuda.manual_seed_all(1234)\n",
        "    print(\"CUDA seed set to 1234 \")\n",
        "else:\n",
        "    print(\"CUDA not available  (seed set only for CPU)\")"
      ]
    },
    {
      "cell_type": "markdown",
      "metadata": {
        "id": "Ir9qSaj6it4n"
      },
      "source": [
        "\n",
        "### 6. Create two random tensors of shape `(2, 3)` and send them both to the GPU (you'll need access to a GPU for this). Set `torch.manual_seed(1234)` when creating the tensors (this doesn't have to be the GPU random seed). The output should be something like:\n",
        "\n",
        "```\n",
        "Device: cuda\n",
        "(tensor([[0.0290, 0.4019, 0.2598],\n",
        "         [0.3666, 0.0583, 0.7006]], device='cuda:0'),\n",
        " tensor([[0.0518, 0.4681, 0.6738],\n",
        "         [0.3315, 0.7837, 0.5631]], device='cuda:0'))\n",
        "```"
      ]
    },
    {
      "cell_type": "code",
      "execution_count": 6,
      "metadata": {
        "id": "azXExiFZj5nm"
      },
      "outputs": [
        {
          "name": "stdout",
          "output_type": "stream",
          "text": [
            "Device: cuda\n",
            "tensor([[0.1272, 0.8167, 0.5440],\n",
            "        [0.6601, 0.2721, 0.9737]], device='cuda:0') \n",
            " tensor([[0.6208, 0.0276, 0.3255],\n",
            "        [0.1114, 0.6812, 0.3608]], device='cuda:0')\n"
          ]
        }
      ],
      "source": [
        "if torch.cuda.is_available():\n",
        "    device = torch.device(\"cuda\")\n",
        "    print(f\"Device: {device}\")\n",
        "\n",
        "    torch.manual_seed(1234)\n",
        "\n",
        "\n",
        "    tensor1 = torch.rand(2, 3, device=device)\n",
        "    tensor2 = torch.rand(2, 3, device=device)\n",
        "\n",
        "\n",
        "    print(tensor1, \"\\n\", tensor2)\n",
        "\n",
        "else:\n",
        "    print(\" CUDA not available on this device.\")\n"
      ]
    },
    {
      "cell_type": "markdown",
      "metadata": {
        "id": "5TlAxeiSiu1y"
      },
      "source": [
        "\n",
        "### 7. Perform a matrix multiplication on the tensors you created in 6 (again, you may have to adjust the shapes of one of the tensors).\n",
        "\n",
        "The output should look like:\n",
        "```\n",
        "(tensor([[0.3647, 0.4709],\n",
        "         [0.5184, 0.5617]], device='cuda:0'), torch.Size([2, 2]))\n",
        "```"
      ]
    },
    {
      "cell_type": "code",
      "execution_count": 7,
      "metadata": {
        "id": "fAeG7ox0lHEO"
      },
      "outputs": [
        {
          "name": "stdout",
          "output_type": "stream",
          "text": [
            "Device: cuda\n",
            "tensor([[0.2786, 0.7668],\n",
            "        [0.7343, 0.6102]], device='cuda:0') torch.Size([2, 2])\n"
          ]
        }
      ],
      "source": [
        "if torch.cuda.is_available():\n",
        "    device = torch.device(\"cuda\")\n",
        "    print(f\"Device: {device}\")\n",
        "\n",
        "\n",
        "    torch.manual_seed(1234)\n",
        "\n",
        "    tensor1 = torch.rand(2, 3, device=device)\n",
        "    tensor2 = torch.rand(2, 3, device=device)\n",
        "\n",
        "    tensor2_T = tensor2.T\n",
        "    result = torch.matmul(tensor1, tensor2_T)\n",
        "\n",
        "    print(result, result.shape)\n",
        "\n",
        "else:\n",
        "    print(\" CUDA not available on this device.\")\n"
      ]
    },
    {
      "cell_type": "markdown",
      "metadata": {
        "id": "G7qfa5CSivwg"
      },
      "source": [
        "### 8. Find the maximum and minimum values of the output of 7."
      ]
    },
    {
      "cell_type": "code",
      "execution_count": 8,
      "metadata": {
        "id": "Fu8_3mZpllOd"
      },
      "outputs": [
        {
          "name": "stdout",
          "output_type": "stream",
          "text": [
            "Result Tensor:\n",
            " tensor([[0.2786, 0.7668],\n",
            "        [0.7343, 0.6102]], device='cuda:0')\n",
            "\n",
            "Maximum value: 0.7667766809463501\n",
            "Minimum value: 0.27863210439682007\n"
          ]
        }
      ],
      "source": [
        "if torch.cuda.is_available():\n",
        "    device = torch.device(\"cuda\")\n",
        "    torch.manual_seed(1234)\n",
        "    tensor1 = torch.rand(2, 3, device=device)\n",
        "    tensor2 = torch.rand(2, 3, device=device)\n",
        "    tensor2_T = tensor2.T\n",
        "    result = torch.matmul(tensor1, tensor2_T)\n",
        "\n",
        "    max_value = result.max()\n",
        "    min_value = result.min()\n",
        "\n",
        "    print(\"Result Tensor:\\n\", result)\n",
        "    print(\"\\nMaximum value:\", max_value.item())\n",
        "    print(\"Minimum value:\", min_value.item())\n",
        "\n",
        "else:\n",
        "    print(\"CUDA not available on this device.\")\n"
      ]
    },
    {
      "cell_type": "markdown",
      "metadata": {
        "id": "wrTj5FgNiw47"
      },
      "source": [
        "### 9. Find the maximum and minimum index values of the output of 7."
      ]
    },
    {
      "cell_type": "code",
      "execution_count": 9,
      "metadata": {
        "id": "CCEKt4K2lsfQ"
      },
      "outputs": [
        {
          "name": "stdout",
          "output_type": "stream",
          "text": [
            "Result Tensor:\n",
            " tensor([[0.2786, 0.7668],\n",
            "        [0.7343, 0.6102]], device='cuda:0')\n",
            "\n",
            "Max Value: 0.7667766809463501 at index (tensor(0, device='cuda:0'), tensor(1, device='cuda:0'))\n",
            "Min Value: 0.27863210439682007 at index (tensor(0, device='cuda:0'), tensor(0, device='cuda:0'))\n"
          ]
        }
      ],
      "source": [
        "if torch.cuda.is_available():\n",
        "    device = torch.device(\"cuda\") # or device = torch.cuda.device(0)\n",
        "    \n",
        "\n",
        "    torch.manual_seed(1234)\n",
        "    tensor1 = torch.rand(2, 3, device=device)\n",
        "    tensor2 = torch.rand(2, 3, device=device)\n",
        "    tensor2_T = tensor2.T\n",
        "    result = torch.matmul(tensor1, tensor2_T)\n",
        "\n",
        "    max_index = result.argmax()\n",
        "    min_index = result.argmin()\n",
        "\n",
        "   \n",
        "    max_coords = torch.unravel_index(max_index, result.shape)\n",
        "    min_coords = torch.unravel_index(min_index, result.shape)\n",
        "\n",
        "    print(\"Result Tensor:\\n\", result)\n",
        "    print(f\"\\nMax Value: {result.max().item()} at index {max_coords}\")\n",
        "    print(f\"Min Value: {result.min().item()} at index {min_coords}\")\n",
        "\n",
        "else:\n",
        "    print(\"CUDA not available on this device.\")\n"
      ]
    },
    {
      "cell_type": "markdown",
      "metadata": {
        "id": "hmeybz4uixy7"
      },
      "source": [
        "\n",
        "### 10. Make a random tensor with shape `(1, 1, 1, 10)` and then create a new tensor with all the `1` dimensions removed to be left with a tensor of shape `(10)`. Set the seed to `7` when you create it and print out the first tensor and it's shape as well as the second tensor and it's shape.\n",
        "\n",
        "The output should look like:\n",
        "\n",
        "```\n",
        "tensor([[[[0.5349, 0.1988, 0.6592, 0.6569, 0.2328, 0.4251, 0.2071, 0.6297,\n",
        "           0.3653, 0.8513]]]]) torch.Size([1, 1, 1, 10])\n",
        "tensor([0.5349, 0.1988, 0.6592, 0.6569, 0.2328, 0.4251, 0.2071, 0.6297, 0.3653,\n",
        "        0.8513]) torch.Size([10])\n",
        "```"
      ]
    },
    {
      "cell_type": "code",
      "execution_count": 10,
      "metadata": {
        "id": "TQ9zbRzVl1jV"
      },
      "outputs": [
        {
          "name": "stdout",
          "output_type": "stream",
          "text": [
            "tensor([[[[0.5349, 0.1988, 0.6592, 0.6569, 0.2328, 0.4251, 0.2071, 0.6297,\n",
            "           0.3653, 0.8513]]]]) torch.Size([1, 1, 1, 10])\n",
            "tensor([0.5349, 0.1988, 0.6592, 0.6569, 0.2328, 0.4251, 0.2071, 0.6297, 0.3653,\n",
            "        0.8513]) torch.Size([10])\n"
          ]
        }
      ],
      "source": [
        "torch.manual_seed(7)\n",
        "tensor1 = torch.rand(1, 1, 1, 10)\n",
        "tensor2 = tensor1.squeeze()\n",
        "\n",
        "print(tensor1, tensor1.shape)\n",
        "print(tensor2, tensor2.shape)\n"
      ]
    },
    {
      "cell_type": "code",
      "execution_count": null,
      "metadata": {},
      "outputs": [],
      "source": []
    }
  ],
  "metadata": {
    "accelerator": "GPU",
    "colab": {
      "collapsed_sections": [],
      "name": "00_pytorch_fundamentals_exercises.ipynb",
      "provenance": []
    },
    "kernelspec": {
      "display_name": "Python 3",
      "name": "python3"
    },
    "language_info": {
      "codemirror_mode": {
        "name": "ipython",
        "version": 3
      },
      "file_extension": ".py",
      "mimetype": "text/x-python",
      "name": "python",
      "nbconvert_exporter": "python",
      "pygments_lexer": "ipython3",
      "version": "3.13.7"
    }
  },
  "nbformat": 4,
  "nbformat_minor": 0
}
